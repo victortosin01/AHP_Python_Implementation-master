{
 "cells": [
  {
   "cell_type": "markdown",
   "id": "878af1f7",
   "metadata": {},
   "source": [
    "## IMPLEMENTATION OF ANALYTICAL HIERACHY PROCESS IN PYTHON"
   ]
  },
  {
   "cell_type": "markdown",
   "id": "cf6f0917",
   "metadata": {},
   "source": [
    "#### What is Analytical Hierarchy Process?"
   ]
  },
  {
   "cell_type": "markdown",
   "id": "0c3f2f47",
   "metadata": {},
   "source": [
    "The Analytic Hierarchy Process (AHP) is a method for organizing and analyzing complex decisions, using math and psychology. \n",
    "It contains three parts:\n",
    "1. The ultimate goal or problem you're trying to solve, \n",
    "2. The criteria you will judge the alternatives on, and \n",
    "3. All of the possible solutions, called alternatives.\n",
    "\n",
    "AHP provides a rational framework for a needed decision by quantifying its criteria and alternative options, and for relating those elements to the overall goal."
   ]
  },
  {
   "cell_type": "markdown",
   "id": "050860a1",
   "metadata": {},
   "source": [
    "### AHP Implementation"
   ]
  },
  {
   "cell_type": "markdown",
   "id": "cc1e2eb7",
   "metadata": {},
   "source": [
    "In the Analytic Hierarchy Process (AHP), decision makers make pairwise comparisons of alternatives and criteria. The AHP allows to make these pairwise comparisons verbally or numerically. Although verbal statements are intuitively attractive for preference elicitation, there is overwhelming evidence that people have very different numerical interpretations of the same verbal expressions."
   ]
  },
  {
   "cell_type": "markdown",
   "id": "ca012fc4",
   "metadata": {},
   "source": [
    "### Importing libraries"
   ]
  },
  {
   "cell_type": "code",
   "execution_count": 2,
   "id": "d09c814c",
   "metadata": {},
   "outputs": [],
   "source": [
    "import pandas as pd\n",
    "import matplotlib.pyplot as plt\n",
    "%matplotlib inline"
   ]
  },
  {
   "cell_type": "markdown",
   "id": "d02be9ed",
   "metadata": {},
   "source": [
    "### AHP Verbal judgement to Numerical rating"
   ]
  },
  {
   "cell_type": "code",
   "execution_count": 3,
   "id": "2cafc7e0",
   "metadata": {},
   "outputs": [
    {
     "data": {
      "text/html": [
       "<div>\n",
       "<style scoped>\n",
       "    .dataframe tbody tr th:only-of-type {\n",
       "        vertical-align: middle;\n",
       "    }\n",
       "\n",
       "    .dataframe tbody tr th {\n",
       "        vertical-align: top;\n",
       "    }\n",
       "\n",
       "    .dataframe thead th {\n",
       "        text-align: right;\n",
       "    }\n",
       "</style>\n",
       "<table border=\"1\" class=\"dataframe\">\n",
       "  <thead>\n",
       "    <tr style=\"text-align: right;\">\n",
       "      <th></th>\n",
       "      <th>Numerical Rating</th>\n",
       "    </tr>\n",
       "    <tr>\n",
       "      <th>Verbal Judgement</th>\n",
       "      <th></th>\n",
       "    </tr>\n",
       "  </thead>\n",
       "  <tbody>\n",
       "    <tr>\n",
       "      <th>Extremely important / prefered</th>\n",
       "      <td>9</td>\n",
       "    </tr>\n",
       "    <tr>\n",
       "      <th>Very strongly to extremely important / prefered</th>\n",
       "      <td>8</td>\n",
       "    </tr>\n",
       "    <tr>\n",
       "      <th>Very strongly important / prefered</th>\n",
       "      <td>7</td>\n",
       "    </tr>\n",
       "    <tr>\n",
       "      <th>Strongly to very strongly important / prefered</th>\n",
       "      <td>6</td>\n",
       "    </tr>\n",
       "    <tr>\n",
       "      <th>Strongly important / prefered</th>\n",
       "      <td>5</td>\n",
       "    </tr>\n",
       "    <tr>\n",
       "      <th>Moderately to strongly important / prefered</th>\n",
       "      <td>4</td>\n",
       "    </tr>\n",
       "    <tr>\n",
       "      <th>Moderately important / prefered</th>\n",
       "      <td>3</td>\n",
       "    </tr>\n",
       "    <tr>\n",
       "      <th>Equally to moderately important / prefered</th>\n",
       "      <td>2</td>\n",
       "    </tr>\n",
       "    <tr>\n",
       "      <th>Equally important / prefered</th>\n",
       "      <td>1</td>\n",
       "    </tr>\n",
       "  </tbody>\n",
       "</table>\n",
       "</div>"
      ],
      "text/plain": [
       "                                                 Numerical Rating\n",
       "Verbal Judgement                                                 \n",
       "Extremely important / prefered                                  9\n",
       "Very strongly to extremely important / prefered                 8\n",
       "Very strongly important / prefered                              7\n",
       "Strongly to very strongly important / prefered                  6\n",
       "Strongly important / prefered                                   5\n",
       "Moderately to strongly important / prefered                     4\n",
       "Moderately important / prefered                                 3\n",
       "Equally to moderately important / prefered                      2\n",
       "Equally important / prefered                                    1"
      ]
     },
     "execution_count": 3,
     "metadata": {},
     "output_type": "execute_result"
    }
   ],
   "source": [
    "Rating_dic = {'Verbal Judgement': ['Extremely important / prefered','Very strongly to extremely important / prefered',\n",
    "                                       'Very strongly important / prefered','Strongly to very strongly important / prefered',\n",
    "                                      'Strongly important / prefered','Moderately to strongly important / prefered',\n",
    "                                     'Moderately important / prefered', 'Equally to moderately important / prefered','Equally important / prefered' ],\n",
    "                 'Numerical Rating': [9,8,7,6,5,4,3,2,1]}\n",
    "\n",
    "Rating_comparison = pd.DataFrame(Rating_dic).set_index('Verbal Judgement')\n",
    "Rating_comparison"
   ]
  },
  {
   "cell_type": "code",
   "execution_count": null,
   "id": "b7c6c260",
   "metadata": {},
   "outputs": [],
   "source": []
  },
  {
   "cell_type": "markdown",
   "id": "5a956542",
   "metadata": {},
   "source": [
    "## Problem Statement"
   ]
  },
  {
   "cell_type": "markdown",
   "id": "a18365eb",
   "metadata": {},
   "source": [
    "The purchasing manager (PM) of Dextro Payne Limited is responsible for deciding which of the available companies to purchase 50 buses for a new transportation business. After a preliminary feasibility study and analysis of the makes, models of several buses and process associated with the purchase, the PM narrowed her list of decision alternatives to three options;\n",
    "1. **Project I**: Purchases of Accord models\n",
    "2. **Project II**: Purchases of Saturn models, and\n",
    "3. **Project III**: Purchases of Cavalier models.\n",
    "\n",
    "Dextro Payne decided that the following criteria were relevant for her purchase decision process\n",
    "1. **Miles per gallon (MPG)**\n",
    "2. **Comfort**\n",
    "3. **Style**\n",
    "4. **Price**"
   ]
  },
  {
   "cell_type": "markdown",
   "id": "5f9e7466",
   "metadata": {},
   "source": [
    "### Table II: Pairwise Comparisons of the Four Criteria for the Bus Selection Problem"
   ]
  },
  {
   "cell_type": "code",
   "execution_count": 4,
   "id": "d15db852",
   "metadata": {},
   "outputs": [
    {
     "data": {
      "text/html": [
       "<div>\n",
       "<style scoped>\n",
       "    .dataframe tbody tr th:only-of-type {\n",
       "        vertical-align: middle;\n",
       "    }\n",
       "\n",
       "    .dataframe tbody tr th {\n",
       "        vertical-align: top;\n",
       "    }\n",
       "\n",
       "    .dataframe thead th {\n",
       "        text-align: right;\n",
       "    }\n",
       "</style>\n",
       "<table border=\"1\" class=\"dataframe\">\n",
       "  <thead>\n",
       "    <tr style=\"text-align: right;\">\n",
       "      <th></th>\n",
       "      <th>More Important criterion</th>\n",
       "      <th>How much important</th>\n",
       "      <th>Numerical rating</th>\n",
       "    </tr>\n",
       "    <tr>\n",
       "      <th>Pairwise Comparison</th>\n",
       "      <th></th>\n",
       "      <th></th>\n",
       "      <th></th>\n",
       "    </tr>\n",
       "  </thead>\n",
       "  <tbody>\n",
       "    <tr>\n",
       "      <th>Price-MPG</th>\n",
       "      <td>Price</td>\n",
       "      <td>Moderately</td>\n",
       "      <td>3</td>\n",
       "    </tr>\n",
       "    <tr>\n",
       "      <th>Price-Comfort</th>\n",
       "      <td>Price</td>\n",
       "      <td>Equally to Moderately</td>\n",
       "      <td>2</td>\n",
       "    </tr>\n",
       "    <tr>\n",
       "      <th>Price-Style</th>\n",
       "      <td>Price</td>\n",
       "      <td>Equally to Moderately</td>\n",
       "      <td>2</td>\n",
       "    </tr>\n",
       "    <tr>\n",
       "      <th>MPG-Comfort</th>\n",
       "      <td>Comfort</td>\n",
       "      <td>Moderatelly to Strongly</td>\n",
       "      <td>4</td>\n",
       "    </tr>\n",
       "    <tr>\n",
       "      <th>MPG-Style</th>\n",
       "      <td>Style</td>\n",
       "      <td>Moderatelly to Strongly</td>\n",
       "      <td>4</td>\n",
       "    </tr>\n",
       "    <tr>\n",
       "      <th>Comfort-Style</th>\n",
       "      <td>Style</td>\n",
       "      <td>Equally to Moderately</td>\n",
       "      <td>2</td>\n",
       "    </tr>\n",
       "  </tbody>\n",
       "</table>\n",
       "</div>"
      ],
      "text/plain": [
       "                    More Important criterion       How much important  \\\n",
       "Pairwise Comparison                                                     \n",
       "Price-MPG                              Price               Moderately   \n",
       "Price-Comfort                          Price    Equally to Moderately   \n",
       "Price-Style                            Price    Equally to Moderately   \n",
       "MPG-Comfort                          Comfort  Moderatelly to Strongly   \n",
       "MPG-Style                              Style  Moderatelly to Strongly   \n",
       "Comfort-Style                          Style    Equally to Moderately   \n",
       "\n",
       "                     Numerical rating  \n",
       "Pairwise Comparison                    \n",
       "Price-MPG                           3  \n",
       "Price-Comfort                       2  \n",
       "Price-Style                         2  \n",
       "MPG-Comfort                         4  \n",
       "MPG-Style                           4  \n",
       "Comfort-Style                       2  "
      ]
     },
     "execution_count": 4,
     "metadata": {},
     "output_type": "execute_result"
    }
   ],
   "source": [
    "comparison_dic = {'Pairwise Comparison': ['Price-MPG','Price-Comfort','Price-Style','MPG-Comfort','MPG-Style','Comfort-Style'],\n",
    "                 'More Important criterion': ['Price','Price','Price','Comfort','Style','Style'],\n",
    "                 'How much important': ['Moderately','Equally to Moderately','Equally to Moderately','Moderatelly to Strongly','Moderatelly to Strongly','Equally to Moderately'],\n",
    "                 'Numerical rating': [3,2,2,4,4,2]}\n",
    "\n",
    "criteria_comparison = pd.DataFrame(comparison_dic).set_index('Pairwise Comparison')\n",
    "criteria_comparison"
   ]
  },
  {
   "cell_type": "markdown",
   "id": "2c24dd6d",
   "metadata": {},
   "source": [
    "***Conversion of the verbal judgement to Numerical values***"
   ]
  },
  {
   "cell_type": "code",
   "execution_count": 5,
   "id": "fdc438a3",
   "metadata": {},
   "outputs": [
    {
     "data": {
      "text/html": [
       "<div>\n",
       "<style scoped>\n",
       "    .dataframe tbody tr th:only-of-type {\n",
       "        vertical-align: middle;\n",
       "    }\n",
       "\n",
       "    .dataframe tbody tr th {\n",
       "        vertical-align: top;\n",
       "    }\n",
       "\n",
       "    .dataframe thead th {\n",
       "        text-align: right;\n",
       "    }\n",
       "</style>\n",
       "<table border=\"1\" class=\"dataframe\">\n",
       "  <thead>\n",
       "    <tr style=\"text-align: right;\">\n",
       "      <th></th>\n",
       "      <th>Price</th>\n",
       "      <th>Comfort</th>\n",
       "      <th>Style</th>\n",
       "      <th>MPG</th>\n",
       "    </tr>\n",
       "    <tr>\n",
       "      <th>Pairwise Comparison</th>\n",
       "      <th></th>\n",
       "      <th></th>\n",
       "      <th></th>\n",
       "      <th></th>\n",
       "    </tr>\n",
       "  </thead>\n",
       "  <tbody>\n",
       "    <tr>\n",
       "      <th>Price</th>\n",
       "      <td>1.000000</td>\n",
       "      <td>2.00</td>\n",
       "      <td>2.00</td>\n",
       "      <td>3</td>\n",
       "    </tr>\n",
       "    <tr>\n",
       "      <th>Comfort</th>\n",
       "      <td>0.500000</td>\n",
       "      <td>1.00</td>\n",
       "      <td>0.50</td>\n",
       "      <td>4</td>\n",
       "    </tr>\n",
       "    <tr>\n",
       "      <th>Style</th>\n",
       "      <td>0.500000</td>\n",
       "      <td>2.00</td>\n",
       "      <td>1.00</td>\n",
       "      <td>4</td>\n",
       "    </tr>\n",
       "    <tr>\n",
       "      <th>MPG</th>\n",
       "      <td>0.333333</td>\n",
       "      <td>0.25</td>\n",
       "      <td>0.25</td>\n",
       "      <td>1</td>\n",
       "    </tr>\n",
       "  </tbody>\n",
       "</table>\n",
       "</div>"
      ],
      "text/plain": [
       "                        Price  Comfort  Style  MPG\n",
       "Pairwise Comparison                               \n",
       "Price                1.000000     2.00   2.00    3\n",
       "Comfort              0.500000     1.00   0.50    4\n",
       "Style                0.500000     2.00   1.00    4\n",
       "MPG                  0.333333     0.25   0.25    1"
      ]
     },
     "execution_count": 5,
     "metadata": {},
     "output_type": "execute_result"
    }
   ],
   "source": [
    "Numeric_dic = {'Pairwise Comparison': ['Price','Comfort','Style','MPG'],\n",
    "                 'Price': [1,1/2,1/2,1/3],\n",
    "                 'Comfort': [2,1,2,1/4],\n",
    "                 'Style': [2,1/2,1,1/4],\n",
    "                 'MPG': [3,4,4,1]}\n",
    "\n",
    "Numeric_comparison = pd.DataFrame(Numeric_dic).set_index('Pairwise Comparison')\n",
    "Numeric_comparison"
   ]
  },
  {
   "cell_type": "markdown",
   "id": "121ba250",
   "metadata": {},
   "source": [
    "#### Computing the weight for each criteria"
   ]
  },
  {
   "cell_type": "code",
   "execution_count": 6,
   "id": "5ff28830",
   "metadata": {},
   "outputs": [
    {
     "data": {
      "text/html": [
       "<div>\n",
       "<style scoped>\n",
       "    .dataframe tbody tr th:only-of-type {\n",
       "        vertical-align: middle;\n",
       "    }\n",
       "\n",
       "    .dataframe tbody tr th {\n",
       "        vertical-align: top;\n",
       "    }\n",
       "\n",
       "    .dataframe thead th {\n",
       "        text-align: right;\n",
       "    }\n",
       "</style>\n",
       "<table border=\"1\" class=\"dataframe\">\n",
       "  <thead>\n",
       "    <tr style=\"text-align: right;\">\n",
       "      <th></th>\n",
       "      <th>Price</th>\n",
       "      <th>Comfort</th>\n",
       "      <th>Style</th>\n",
       "      <th>MPG</th>\n",
       "    </tr>\n",
       "    <tr>\n",
       "      <th>Pairwise Comparison</th>\n",
       "      <th></th>\n",
       "      <th></th>\n",
       "      <th></th>\n",
       "      <th></th>\n",
       "    </tr>\n",
       "  </thead>\n",
       "  <tbody>\n",
       "    <tr>\n",
       "      <th>Price</th>\n",
       "      <td>0.428571</td>\n",
       "      <td>0.380952</td>\n",
       "      <td>0.533333</td>\n",
       "      <td>0.250000</td>\n",
       "    </tr>\n",
       "    <tr>\n",
       "      <th>Comfort</th>\n",
       "      <td>0.214286</td>\n",
       "      <td>0.190476</td>\n",
       "      <td>0.133333</td>\n",
       "      <td>0.333333</td>\n",
       "    </tr>\n",
       "    <tr>\n",
       "      <th>Style</th>\n",
       "      <td>0.214286</td>\n",
       "      <td>0.380952</td>\n",
       "      <td>0.266667</td>\n",
       "      <td>0.333333</td>\n",
       "    </tr>\n",
       "    <tr>\n",
       "      <th>MPG</th>\n",
       "      <td>0.142857</td>\n",
       "      <td>0.047619</td>\n",
       "      <td>0.066667</td>\n",
       "      <td>0.083333</td>\n",
       "    </tr>\n",
       "  </tbody>\n",
       "</table>\n",
       "</div>"
      ],
      "text/plain": [
       "                        Price   Comfort     Style       MPG\n",
       "Pairwise Comparison                                        \n",
       "Price                0.428571  0.380952  0.533333  0.250000\n",
       "Comfort              0.214286  0.190476  0.133333  0.333333\n",
       "Style                0.214286  0.380952  0.266667  0.333333\n",
       "MPG                  0.142857  0.047619  0.066667  0.083333"
      ]
     },
     "execution_count": 6,
     "metadata": {},
     "output_type": "execute_result"
    }
   ],
   "source": [
    "# Calculating the associated weight of each criteria\n",
    "criteria_weight = Numeric_comparison.copy()\n",
    "for col in ['Price','Comfort','Style','MPG']:\n",
    "    criteria_weight[col] = criteria_weight[col] / criteria_weight[col].sum()\n",
    "criteria_weight"
   ]
  },
  {
   "cell_type": "code",
   "execution_count": 7,
   "id": "86cd7fc4",
   "metadata": {},
   "outputs": [],
   "source": [
    "Price_weight = (criteria_weight['Price'][0] + criteria_weight['Comfort'][0] + criteria_weight['Style'][0] +criteria_weight['MPG'][0])/4\n",
    "Comfort_weight = (criteria_weight['Price'][1] + criteria_weight['Comfort'][1] + criteria_weight['Style'][1] +criteria_weight['MPG'][1])/4\n",
    "Style_weight = (criteria_weight['Price'][2] + criteria_weight['Comfort'][2] + criteria_weight['Style'][2] +criteria_weight['MPG'][2])/4\n",
    "MPG_weight = (criteria_weight['Price'][3] + criteria_weight['Comfort'][3] + criteria_weight['Style'][3] +criteria_weight['MPG'][3])/4"
   ]
  },
  {
   "cell_type": "code",
   "execution_count": 8,
   "id": "e2578656",
   "metadata": {},
   "outputs": [
    {
     "name": "stdout",
     "output_type": "stream",
     "text": [
      "Price Weight : 0.398\n",
      "Comfort Weight : 0.218\n",
      "Style Weight : 0.299\n",
      "MPG Weight : 0.085\n"
     ]
    }
   ],
   "source": [
    "print(f'Price Weight : {Price_weight:.3f}\\nComfort Weight : {Comfort_weight:.3f}\\nStyle Weight : {Style_weight:.3f}\\nMPG Weight : {MPG_weight:.3f}')"
   ]
  },
  {
   "cell_type": "code",
   "execution_count": 10,
   "id": "386b208d",
   "metadata": {},
   "outputs": [
    {
     "data": {
      "text/plain": [
       "Text(0, 0.5, 'Criteria Weight')"
      ]
     },
     "execution_count": 10,
     "metadata": {},
     "output_type": "execute_result"
    },
    {
     "data": {
      "image/png": "[encoded data removed]",
      "text/plain": [
       "<Figure size 432x288 with 1 Axes>"
      ]
     },
     "metadata": {
      "needs_background": "light"
     },
     "output_type": "display_data"
    }
   ],
   "source": [
    "plt.bar(['Price','Comfort','Style','MPG'],[Price_weight, Comfort_weight, Style_weight, MPG_weight], color = 'blue')\n",
    "plt.title('Criteria comparison')\n",
    "plt.xlabel('Criteria')\n",
    "plt.ylabel('Criteria Weight')"
   ]
  },
  {
   "cell_type": "markdown",
   "id": "dddf6dd5",
   "metadata": {},
   "source": [
    "The above weight result shows that the Price criterion is the most important of all criteria, with a weight of 0.398, followed by the Style criteria with a weight of 0.299 and so on. "
   ]
  },
  {
   "cell_type": "markdown",
   "id": "ac8b8f36",
   "metadata": {},
   "source": [
    "### Table III: Pairwise Comparisons showing Preferences for the projects by criterion"
   ]
  },
  {
   "cell_type": "markdown",
   "id": "6608ef61",
   "metadata": {},
   "source": [
    "### PRICE Criteria"
   ]
  },
  {
   "cell_type": "code",
   "execution_count": 11,
   "id": "e32cfb21",
   "metadata": {},
   "outputs": [
    {
     "data": {
      "text/html": [
       "<div>\n",
       "<style scoped>\n",
       "    .dataframe tbody tr th:only-of-type {\n",
       "        vertical-align: middle;\n",
       "    }\n",
       "\n",
       "    .dataframe tbody tr th {\n",
       "        vertical-align: top;\n",
       "    }\n",
       "\n",
       "    .dataframe thead th {\n",
       "        text-align: right;\n",
       "    }\n",
       "</style>\n",
       "<table border=\"1\" class=\"dataframe\">\n",
       "  <thead>\n",
       "    <tr style=\"text-align: right;\">\n",
       "      <th></th>\n",
       "      <th>Project I</th>\n",
       "      <th>Project II</th>\n",
       "      <th>Project III</th>\n",
       "    </tr>\n",
       "    <tr>\n",
       "      <th>PRICE</th>\n",
       "      <th></th>\n",
       "      <th></th>\n",
       "      <th></th>\n",
       "    </tr>\n",
       "  </thead>\n",
       "  <tbody>\n",
       "    <tr>\n",
       "      <th>Project I</th>\n",
       "      <td>1</td>\n",
       "      <td>0.333333</td>\n",
       "      <td>0.25</td>\n",
       "    </tr>\n",
       "    <tr>\n",
       "      <th>Project II</th>\n",
       "      <td>3</td>\n",
       "      <td>1.000000</td>\n",
       "      <td>0.50</td>\n",
       "    </tr>\n",
       "    <tr>\n",
       "      <th>Project III</th>\n",
       "      <td>4</td>\n",
       "      <td>2.000000</td>\n",
       "      <td>1.00</td>\n",
       "    </tr>\n",
       "  </tbody>\n",
       "</table>\n",
       "</div>"
      ],
      "text/plain": [
       "             Project I  Project II  Project III\n",
       "PRICE                                          \n",
       "Project I            1    0.333333         0.25\n",
       "Project II           3    1.000000         0.50\n",
       "Project III          4    2.000000         1.00"
      ]
     },
     "execution_count": 11,
     "metadata": {},
     "output_type": "execute_result"
    }
   ],
   "source": [
    "PRICE_dic = {'PRICE': ['Project I','Project II','Project III'],\n",
    "                 'Project I': [1,3,4],\n",
    "                 'Project II': [1/3,1,2],\n",
    "                 'Project III': [1/4,1/2,1,]}\n",
    "\n",
    "PRICE_comparison = pd.DataFrame(PRICE_dic).set_index('PRICE')\n",
    "PRICE_comparison"
   ]
  },
  {
   "cell_type": "code",
   "execution_count": 12,
   "id": "c8150685",
   "metadata": {},
   "outputs": [
    {
     "data": {
      "text/html": [
       "<div>\n",
       "<style scoped>\n",
       "    .dataframe tbody tr th:only-of-type {\n",
       "        vertical-align: middle;\n",
       "    }\n",
       "\n",
       "    .dataframe tbody tr th {\n",
       "        vertical-align: top;\n",
       "    }\n",
       "\n",
       "    .dataframe thead th {\n",
       "        text-align: right;\n",
       "    }\n",
       "</style>\n",
       "<table border=\"1\" class=\"dataframe\">\n",
       "  <thead>\n",
       "    <tr style=\"text-align: right;\">\n",
       "      <th></th>\n",
       "      <th>Project I</th>\n",
       "      <th>Project II</th>\n",
       "      <th>Project III</th>\n",
       "    </tr>\n",
       "    <tr>\n",
       "      <th>PRICE</th>\n",
       "      <th></th>\n",
       "      <th></th>\n",
       "      <th></th>\n",
       "    </tr>\n",
       "  </thead>\n",
       "  <tbody>\n",
       "    <tr>\n",
       "      <th>Project I</th>\n",
       "      <td>0.125</td>\n",
       "      <td>0.1</td>\n",
       "      <td>0.142857</td>\n",
       "    </tr>\n",
       "    <tr>\n",
       "      <th>Project II</th>\n",
       "      <td>0.375</td>\n",
       "      <td>0.3</td>\n",
       "      <td>0.285714</td>\n",
       "    </tr>\n",
       "    <tr>\n",
       "      <th>Project III</th>\n",
       "      <td>0.500</td>\n",
       "      <td>0.6</td>\n",
       "      <td>0.571429</td>\n",
       "    </tr>\n",
       "  </tbody>\n",
       "</table>\n",
       "</div>"
      ],
      "text/plain": [
       "             Project I  Project II  Project III\n",
       "PRICE                                          \n",
       "Project I        0.125         0.1     0.142857\n",
       "Project II       0.375         0.3     0.285714\n",
       "Project III      0.500         0.6     0.571429"
      ]
     },
     "execution_count": 12,
     "metadata": {},
     "output_type": "execute_result"
    }
   ],
   "source": [
    "# Calculating the associated weight of each criteria\n",
    "PRICE_criteria = PRICE_comparison.copy()\n",
    "for col in ['Project I','Project II','Project III']:\n",
    "    PRICE_criteria[col] = PRICE_criteria[col] / PRICE_criteria[col].sum()\n",
    "PRICE_criteria"
   ]
  },
  {
   "cell_type": "code",
   "execution_count": 13,
   "id": "355bd0ed",
   "metadata": {},
   "outputs": [
    {
     "name": "stdout",
     "output_type": "stream",
     "text": [
      "Project Weight based on PRICE Criteria\n",
      "--------------------------------------\n",
      "Project I : 0.123\n",
      "Project II : 0.320\n",
      "Project III : 0.557\n"
     ]
    }
   ],
   "source": [
    "PRICE_P1 = (PRICE_criteria['Project I'][0] + PRICE_criteria['Project II'][0] + PRICE_criteria['Project III'][0])/3\n",
    "PRICE_P2 = (PRICE_criteria['Project I'][1] + PRICE_criteria['Project II'][1] + PRICE_criteria['Project III'][1])/3\n",
    "PRICE_P3 = (PRICE_criteria['Project I'][2] + PRICE_criteria['Project II'][2] + PRICE_criteria['Project III'][2])/3\n",
    "\n",
    "print(f'Project Weight based on PRICE Criteria\\n--------------------------------------\\nProject I : {PRICE_P1:.3f}\\nProject II : {PRICE_P2:.3f}\\nProject III : {PRICE_P3:.3f}')"
   ]
  },
  {
   "cell_type": "code",
   "execution_count": 14,
   "id": "e027318a",
   "metadata": {},
   "outputs": [
    {
     "data": {
      "text/plain": [
       "Text(0, 0.5, 'Project Weight')"
      ]
     },
     "execution_count": 14,
     "metadata": {},
     "output_type": "execute_result"
    },
    {
     "data": {
      "image/png": "[encoded data removed]",
      "text/plain": [
       "<Figure size 432x288 with 1 Axes>"
      ]
     },
     "metadata": {
      "needs_background": "light"
     },
     "output_type": "display_data"
    }
   ],
   "source": [
    "plt.bar(['Project 1','Project 2','Project 3'],[PRICE_P1,PRICE_P2,PRICE_P3], color = 'magenta')\n",
    "plt.title('Project Weight comparison based on PRICE Criteria')\n",
    "plt.ylabel('Project Weight')"
   ]
  },
  {
   "cell_type": "markdown",
   "id": "415b45a4",
   "metadata": {},
   "source": [
    "The above result shows that Project III, Purchases of Cavalier models, has the highest weight of 0.557. This means if the 3 projects were to be analysed on the basis of the Price criteria only, Project III will be the best candidate for selection"
   ]
  },
  {
   "cell_type": "markdown",
   "id": "6f2aa13b",
   "metadata": {},
   "source": [
    "### MPG Criteria"
   ]
  },
  {
   "cell_type": "code",
   "execution_count": 15,
   "id": "6749e09e",
   "metadata": {},
   "outputs": [
    {
     "name": "stdout",
     "output_type": "stream",
     "text": [
      "Project Weight based on MPG Criteria\n",
      "--------------------------------------\n",
      "Project I : 0.087\n",
      "Project II : 0.274\n",
      "Project III : 0.639\n"
     ]
    }
   ],
   "source": [
    "MPG_dic = {'MPG': ['Project I','Project II','Project III'],\n",
    "                 'Project I': [1,4,6],\n",
    "                 'Project II': [1/4,1,3],\n",
    "                 'Project III': [1/6,1/3,1,]}\n",
    "\n",
    "MPG_comparison = pd.DataFrame(MPG_dic).set_index('MPG')\n",
    "\n",
    "# Calculating the associated weight of each criteria\n",
    "MPG_criteria = MPG_comparison.copy()\n",
    "for col in ['Project I','Project II','Project III']:\n",
    "    MPG_criteria[col] = MPG_criteria[col] / MPG_criteria[col].sum()\n",
    "\n",
    "MPG_P1 = (MPG_criteria['Project I'][0] + MPG_criteria['Project II'][0] + MPG_criteria['Project III'][0])/3\n",
    "MPG_P2 = (MPG_criteria['Project I'][1] + MPG_criteria['Project II'][1] + MPG_criteria['Project III'][1])/3\n",
    "MPG_P3 = (MPG_criteria['Project I'][2] + MPG_criteria['Project II'][2] + MPG_criteria['Project III'][2])/3\n",
    "\n",
    "print(f'Project Weight based on MPG Criteria\\n--------------------------------------\\nProject I : {MPG_P1:.3f}\\nProject II : {MPG_P2:.3f}\\nProject III : {MPG_P3:.3f}')"
   ]
  },
  {
   "cell_type": "code",
   "execution_count": 17,
   "id": "a8d1f876",
   "metadata": {},
   "outputs": [
    {
     "data": {
      "text/plain": [
       "Text(0, 0.5, 'Project Weight')"
      ]
     },
     "execution_count": 17,
     "metadata": {},
     "output_type": "execute_result"
    },
    {
     "data": {
      "image/png": "[encoded data removed]",
      "text/plain": [
       "<Figure size 432x288 with 1 Axes>"
      ]
     },
     "metadata": {
      "needs_background": "light"
     },
     "output_type": "display_data"
    }
   ],
   "source": [
    "plt.bar(['Project 1','Project 2','Project 3'],[MPG_P1,MPG_P2,MPG_P3], color = 'green')\n",
    "plt.title('Project Weight comparison based on MPG Criteria')\n",
    "plt.ylabel('Project Weight')"
   ]
  },
  {
   "cell_type": "markdown",
   "id": "ac67fa10",
   "metadata": {},
   "source": [
    "The above result shows that Project III, Purchases of Cavalier models, has the highest weight of 0.639. This means if the 3 projects were to be analysed on the basis of the MPG criteria only, Project III will be the best candidate for selection"
   ]
  },
  {
   "cell_type": "code",
   "execution_count": null,
   "id": "94d5a809",
   "metadata": {},
   "outputs": [],
   "source": []
  },
  {
   "cell_type": "markdown",
   "id": "b3153d56",
   "metadata": {},
   "source": [
    "### COMFORT Criteria"
   ]
  },
  {
   "cell_type": "code",
   "execution_count": 18,
   "id": "b395b9d7",
   "metadata": {},
   "outputs": [
    {
     "name": "stdout",
     "output_type": "stream",
     "text": [
      "Project Weight based on COMFORT Criteria\n",
      "--------------------------------------\n",
      "Project I : 0.593\n",
      "Project II : 0.341\n",
      "Project III : 0.065\n"
     ]
    }
   ],
   "source": [
    "COMFORT_dic = {'COMFORT': ['Project I','Project II','Project III'],\n",
    "                 'Project I': [1,1/2,1/8],\n",
    "                 'Project II': [2,1,1/6],\n",
    "                 'Project III': [8,6,1,]}\n",
    "\n",
    "COMFORT_comparison = pd.DataFrame(COMFORT_dic).set_index('COMFORT')\n",
    "\n",
    "# Calculating the associated weight of each criteria\n",
    "COMFORT_criteria = COMFORT_comparison.copy()\n",
    "for col in ['Project I','Project II','Project III']:\n",
    "    COMFORT_criteria[col] = COMFORT_criteria[col] / COMFORT_criteria[col].sum()\n",
    "\n",
    "COMFORT_P1 = (COMFORT_criteria['Project I'][0] + COMFORT_criteria['Project II'][0] + COMFORT_criteria['Project III'][0])/3\n",
    "COMFORT_P2 = (COMFORT_criteria['Project I'][1] + COMFORT_criteria['Project II'][1] + COMFORT_criteria['Project III'][1])/3\n",
    "COMFORT_P3 = (COMFORT_criteria['Project I'][2] + COMFORT_criteria['Project II'][2] + COMFORT_criteria['Project III'][2])/3\n",
    "\n",
    "print(f'Project Weight based on COMFORT Criteria\\n--------------------------------------\\nProject I : {COMFORT_P1:.3f}\\nProject II : {COMFORT_P2:.3f}\\nProject III : {COMFORT_P3:.3f}')"
   ]
  },
  {
   "cell_type": "code",
   "execution_count": 20,
   "id": "4eef4baa",
   "metadata": {},
   "outputs": [
    {
     "data": {
      "text/plain": [
       "Text(0, 0.5, 'Project Weight')"
      ]
     },
     "execution_count": 20,
     "metadata": {},
     "output_type": "execute_result"
    },
    {
     "data": {
      "image/png": "[encoded data removed]",
      "text/plain": [
       "<Figure size 432x288 with 1 Axes>"
      ]
     },
     "metadata": {
      "needs_background": "light"
     },
     "output_type": "display_data"
    }
   ],
   "source": [
    "plt.bar(['Project 1','Project 2','Project 3'],[COMFORT_P1,COMFORT_P2,COMFORT_P3], color = 'purple')\n",
    "plt.title('Project Weight comparison based on COMFORT Criteria')\n",
    "plt.ylabel('Project Weight')"
   ]
  },
  {
   "cell_type": "markdown",
   "id": "0f2b4cb6",
   "metadata": {},
   "source": [
    "The above result shows that Project I, Purchases of Accord models, has the highest weight of 0.593. This means if the 3 projects were to be analysed on the basis of the Comfort criteria only, Project I will be the best candidate for selection."
   ]
  },
  {
   "cell_type": "markdown",
   "id": "82d5ea80",
   "metadata": {},
   "source": [
    "### STYLE Criteria"
   ]
  },
  {
   "cell_type": "code",
   "execution_count": 21,
   "id": "5bc64d57",
   "metadata": {
    "scrolled": true
   },
   "outputs": [
    {
     "name": "stdout",
     "output_type": "stream",
     "text": [
      "Project Weight based on STYLE Criteria\n",
      "--------------------------------------\n",
      "Project I : 0.265\n",
      "Project II : 0.656\n",
      "Project III : 0.080\n"
     ]
    }
   ],
   "source": [
    "STYLE_dic = {'STYLE': ['Project I','Project II','Project III'],\n",
    "                 'Project I': [1,3,1/4],\n",
    "                 'Project II': [1/3,1,1/7],\n",
    "                 'Project III': [4,7,1,]}\n",
    "\n",
    "STYLE_comparison = pd.DataFrame(STYLE_dic).set_index('STYLE')\n",
    "\n",
    "# Calculating the associated weight of each criteria\n",
    "STYLE_criteria = STYLE_comparison.copy()\n",
    "for col in ['Project I','Project II','Project III']:\n",
    "    STYLE_criteria[col] = STYLE_criteria[col] / STYLE_criteria[col].sum()\n",
    "\n",
    "STYLE_P1 = (STYLE_criteria['Project I'][0] + STYLE_criteria['Project II'][0] + STYLE_criteria['Project III'][0])/3\n",
    "STYLE_P2 = (STYLE_criteria['Project I'][1] + STYLE_criteria['Project II'][1] + STYLE_criteria['Project III'][1])/3\n",
    "STYLE_P3 = (STYLE_criteria['Project I'][2] + STYLE_criteria['Project II'][2] + STYLE_criteria['Project III'][2])/3\n",
    "\n",
    "print(f'Project Weight based on STYLE Criteria\\n--------------------------------------\\nProject I : {STYLE_P1:.3f}\\nProject II : {STYLE_P2:.3f}\\nProject III : {STYLE_P3:.3f}')"
   ]
  },
  {
   "cell_type": "code",
   "execution_count": 23,
   "id": "039cae6e",
   "metadata": {},
   "outputs": [
    {
     "data": {
      "text/plain": [
       "Text(0, 0.5, 'Project Weight')"
      ]
     },
     "execution_count": 23,
     "metadata": {},
     "output_type": "execute_result"
    },
    {
     "data": {
      "image/png": "[encoded data removed]",
      "text/plain": [
       "<Figure size 432x288 with 1 Axes>"
      ]
     },
     "metadata": {
      "needs_background": "light"
     },
     "output_type": "display_data"
    }
   ],
   "source": [
    "plt.bar(['Project 1','Project 2','Project 3'],[STYLE_P1,STYLE_P2,STYLE_P3], color = 'red')\n",
    "plt.title('Project Weight based on STYLE Criteria')\n",
    "plt.ylabel('Project Weight')"
   ]
  },
  {
   "cell_type": "markdown",
   "id": "a4d7a743",
   "metadata": {},
   "source": [
    "The above result shows that Project II, Purchases of Saturn models, has the highest weight of 0.656. This means if the 3 projects were to be analysed on the basis of the STYLE criteria only, Project II will be the best candidate for selection."
   ]
  },
  {
   "cell_type": "markdown",
   "id": "62892355",
   "metadata": {},
   "source": [
    "### Final Project Selection using the four criteria (AHP)"
   ]
  },
  {
   "cell_type": "code",
   "execution_count": 24,
   "id": "0275600b",
   "metadata": {},
   "outputs": [
    {
     "name": "stdout",
     "output_type": "stream",
     "text": [
      "Project Weight based on all 4 Criteria\n",
      "--------------------------------------\n",
      "Project I : 0.265\n",
      "Project II : 0.421\n",
      "Project III : 0.314\n"
     ]
    }
   ],
   "source": [
    "Project_1 = Price_weight*PRICE_P1 + Comfort_weight*COMFORT_P1 + MPG_weight*MPG_P1 + Style_weight*STYLE_P1\n",
    "Project_2 = Price_weight*PRICE_P2 + Comfort_weight*COMFORT_P2 + MPG_weight*MPG_P2 + Style_weight*STYLE_P2\n",
    "Project_3 = Price_weight*PRICE_P3 + Comfort_weight*COMFORT_P3 + MPG_weight*MPG_P3 + Style_weight*STYLE_P3\n",
    "\n",
    "print(f'Project Weight based on all 4 Criteria\\n--------------------------------------\\nProject I : {Project_1:.3f}\\nProject II : {Project_2:.3f}\\nProject III : {Project_3:.3f}')"
   ]
  },
  {
   "cell_type": "code",
   "execution_count": 25,
   "id": "30873877",
   "metadata": {},
   "outputs": [
    {
     "data": {
      "text/plain": [
       "Text(0, 0.5, 'Project Weight')"
      ]
     },
     "execution_count": 25,
     "metadata": {},
     "output_type": "execute_result"
    },
    {
     "data": {
      "image/png": "[encoded data removed]",
      "text/plain": [
       "<Figure size 432x288 with 1 Axes>"
      ]
     },
     "metadata": {
      "needs_background": "light"
     },
     "output_type": "display_data"
    }
   ],
   "source": [
    "plt.bar(['Project 1','Project 2','Project 3'],[Project_1,Project_2,Project_3], color = 'green')\n",
    "plt.title('Project Weight based on all Criteria')\n",
    "plt.ylabel('Project Weight')"
   ]
  },
  {
   "cell_type": "markdown",
   "id": "0d570d77",
   "metadata": {},
   "source": [
    "### Final decision"
   ]
  },
  {
   "cell_type": "markdown",
   "id": "59892f3c",
   "metadata": {},
   "source": [
    "The final result above shows that the best project based on the combination of the four criteria is Project 2, Purchases of Saturn models."
   ]
  }
 ],
 "metadata": {
  "kernelspec": {
   "display_name": "Python 3 (ipykernel)",
   "language": "python",
   "name": "python3"
  },
  "language_info": {
   "codemirror_mode": {
    "name": "ipython",
    "version": 3
   },
   "file_extension": ".py",
   "mimetype": "text/x-python",
   "name": "python",
   "nbconvert_exporter": "python",
   "pygments_lexer": "ipython3",
   "version": "3.8.8"
  }
 },
 "nbformat": 4,
 "nbformat_minor": 5
}
